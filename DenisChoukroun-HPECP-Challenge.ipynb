{
 "cells": [
  {
   "cell_type": "markdown",
   "metadata": {},
   "source": [
    "# The HPE Container Platform (HPE CP) - Challenge\n",
    "## Deploying your front-end application on Kubernetes cluster managed by the HPE Container Platform."
   ]
  },
  {
   "cell_type": "markdown",
   "metadata": {},
   "source": [
    "#### Initialize the environment:\n",
    "\n",
    "Let's first define the environment variables according to your HPE Container Platform user account and tenant name, and the HPE Container Platform API system endpoint:"
   ]
  },
  {
   "cell_type": "code",
   "execution_count": 1,
   "metadata": {},
   "outputs": [
    {
     "name": "stdout",
     "output_type": "stream",
     "text": [
      "your HPE Container Platform operation context is: student1 on tenant K8sHackTenant\n"
     ]
    }
   ],
   "source": [
    "#\n",
    "# environment variables to be adjusted/verified by the student\n",
    "#\n",
    "YourName=\"denischoukroun\" # your name in Lowercase !!! (i.e.: firstnamelastname)\n",
    "username=\"student1\" # your HPE CP tenant login credentials - username \n",
    "password=\"stuDISCO2020\" # your HPE CP tenant login credentials - password\n",
    "#\n",
    "# fixed environment variables setup by the HPE CP lab administrator\n",
    "#\n",
    "controller_endpoint=\"hpecpgw1.hp.local:8080\"\n",
    "gateway_host=\"hpecpgw1.hp.local\"\n",
    "tenantname=\"K8sHackTenant\"\n",
    "k8sClusterId=\"9\"  #this is the K8s Cluster Id provided by the HPE CP admisnistrator and assigned to your K8s tenant.\n",
    "GrommetApp=\"my-app-denischoukroun.yaml\" # the Grommet react based application\n",
    "echo \"your HPE Container Platform operation context is:\" $username \"on tenant\" $tenantname "
   ]
  },
  {
   "cell_type": "markdown",
   "metadata": {},
   "source": [
    "#### Authenticate as a tenant user in the specified tenant:\n",
    "\n",
    "> Note:  When you see a [*] next to the next action it means your execution step is busy working within the notebook."
   ]
  },
  {
   "cell_type": "code",
   "execution_count": 2,
   "metadata": {},
   "outputs": [
    {
     "name": "stdout",
     "output_type": "stream",
     "text": [
      "This is your session location:  /api/v2/session/424b718a-fd34-4c72-abbc-15157d523d06\n",
      "This is your session_Id: 424b718a-fd34-4c72-abbc-15157d523d06\n"
     ]
    }
   ],
   "source": [
    "sessionlocation=$(curl -k -i -s --request POST \"https://${controller_endpoint}/api/v2/session\" \\\n",
    "--header 'Accept: application/json' \\\n",
    "--header 'Content-Type: application/json' \\\n",
    "--data-raw '{\n",
    "\"name\": \"'\"$username\"'\",\n",
    "\"password\": \"'\"$password\"'\",\n",
    "\"tenant_name\": \"'\"$tenantname\"'\"\n",
    "}' | grep Location | awk '{print $2}' | tr -d '\\r') #we remove any cr that might exist\n",
    "echo \"This is your session location: \" $sessionlocation\n",
    "SessionId=$(echo $sessionlocation | cut -d'/' -f 5) # extract sessionId for later, for logout\n",
    "echo \"This is your session_Id:\" $SessionId"
   ]
  },
  {
   "cell_type": "markdown",
   "metadata": {},
   "source": [
    "#### Get the Kubeconfig file for your tenant working context:\n",
    "The next step in deploying a containerized application in Kubernetes clusters managed by the HPE Container Platform is to get the kubeconfig file for your tenant working context. \n",
    "\n",
    "The HPE CP REST API call below allows you to get the **kubeconfig file** used to access the Kubernetes cluster for your tenant user account based on your assigned role (tenant member) with the same result as if you had downloaded it from the HPE CP UI."
   ]
  },
  {
   "cell_type": "code",
   "execution_count": 3,
   "metadata": {},
   "outputs": [],
   "source": [
    "curl -k -s --request GET \"https://${controller_endpoint}/api/v2/k8skubeconfig\" \\\n",
    "--header \"X-BDS-SESSION: $sessionlocation\" \\\n",
    "--header 'Accept: application/json' \\\n",
    "--header 'Content-Type: application/json' > ${YourName}_kubeconfig"
   ]
  },
  {
   "cell_type": "code",
   "execution_count": 4,
   "metadata": {},
   "outputs": [
    {
     "name": "stdout",
     "output_type": "stream",
     "text": [
      "apiVersion: v1\n",
      "clusters:\n",
      "- cluster:\n",
      "    insecure-skip-tls-verify: true\n",
      "    server: https://hpecpgw1.hp.local:9500\n",
      "  name: k8scluster1\n",
      "contexts:\n",
      "- context:\n",
      "    cluster: k8scluster1\n",
      "    user: HPECP-student1\n",
      "    namespace: k8shacktenant\n",
      "  name: k8scluster1-K8sHackTenant-student1\n",
      "current-context: k8scluster1-K8sHackTenant-student1\n",
      "kind: Config\n",
      "preferences: {}\n",
      "users:\n",
      "- name: HPECP-student1\n",
      "  user:\n",
      "    exec:\n",
      "      command: kubectl\n",
      "      apiVersion: client.authentication.k8s.io/v1beta1\n",
      "      args:\n",
      "      - hpecp\n",
      "      - authenticate\n",
      "      - hpecpgw1.hp.local:8080\n",
      "      - --hpecp-user=student1\n",
      "      - --hpecp-token=/api/v2/session/424b718a-fd34-4c72-abbc-15157d523d06\n",
      "      - --hpecp-token-expiry=1595781667\n",
      "      - --force-reauth=false\n",
      "      - --insecure-skip-tls-verify=true\n"
     ]
    }
   ],
   "source": [
    "cat ${YourName}_kubeconfig"
   ]
  },
  {
   "cell_type": "markdown",
   "metadata": {},
   "source": [
    "> Notice the kubeconfig file includes the valid token (session location) for the current session you previously established."
   ]
  },
  {
   "cell_type": "markdown",
   "metadata": {},
   "source": [
    "#### Define the Kubeconfig file as a shell environment variable:\n",
    "The kubectl command-line tool (a K8s API client) uses kubeconfig file to communicate with the Kube API server of a Kubernetes cluster. By default, kubectl looks for a file named **config** in the $HOME/.kube directory. Because our kubeconfig file is not located in a default location, we must specify the path of the kubeconfig file by setting the KUBECONFIG environment variable:"
   ]
  },
  {
   "cell_type": "code",
   "execution_count": 5,
   "metadata": {},
   "outputs": [
    {
     "name": "stdout",
     "output_type": "stream",
     "text": [
      "denischoukroun_kubeconfig\n"
     ]
    }
   ],
   "source": [
    "#define the Kubeconfig file as a shell environment variable to tell kubectl where to look for the kubeconfig file\n",
    "export KUBECONFIG=\"${YourName}_kubeconfig\"\n",
    "echo $KUBECONFIG"
   ]
  },
  {
   "cell_type": "markdown",
   "metadata": {},
   "source": [
    "#### Check your working tenant context:"
   ]
  },
  {
   "cell_type": "code",
   "execution_count": 6,
   "metadata": {},
   "outputs": [
    {
     "name": "stdout",
     "output_type": "stream",
     "text": [
      "k8scluster1-K8sHackTenant-student1\n"
     ]
    }
   ],
   "source": [
    "kubectl config current-context"
   ]
  },
  {
   "cell_type": "markdown",
   "metadata": {},
   "source": [
    "You can now send Kubernetes API requests using a K8s API client such as **kubectl** to deploy enterprise workloads to the kubernetes cluster using the privileges assigned to your tenant role. \n",
    "\n",
    "\n",
    "**Let's see this in action!**"
   ]
  },
  {
   "cell_type": "markdown",
   "metadata": {},
   "source": [
    "# Challenges"
   ]
  },
  {
   "cell_type": "code",
   "execution_count": 7,
   "metadata": {},
   "outputs": [],
   "source": [
    "# kubectl run -i -t --image=didierlalli/myfirstgrommetapp grommet-${YourName} --port=3000 --restart=Never"
   ]
  },
  {
   "cell_type": "markdown",
   "metadata": {},
   "source": [
    "> Note: The first time an application type is created in the Kubernetes cluster, it may take some minutes to reach its \"running\" state, as the relevant Docker image must be downloaded and imported in a Kubernetes worker host."
   ]
  },
  {
   "cell_type": "markdown",
   "metadata": {},
   "source": [
    "> Note:  You can ignore the message \"If you don't see a command prompt, try pressing enter. Error attaching, falling back to logs: pods \"your pod name\" is forbidden. User cannot create resource \"pods/attach\" in API group in the namespace \"k8shacktenant\".\n",
    "\n",
    "**If you run the kubectl run command from the Launcher terminal, Press Control-C to go to the command prompt.**  \n",
    "\n",
    "**If you run the kubectl from the Jupyter Notebook, stop execution of the cell code by using \"Interrupt the Kernel\" button at the top of your Notebook.**"
   ]
  },
  {
   "cell_type": "code",
   "execution_count": 8,
   "metadata": {},
   "outputs": [],
   "source": [
    "#kubectl get pods -l run=grommet-${YourName}"
   ]
  },
  {
   "cell_type": "code",
   "execution_count": 9,
   "metadata": {},
   "outputs": [],
   "source": [
    "#kubectl get pods -l run=grommet-${YourName} -o yaml"
   ]
  },
  {
   "cell_type": "code",
   "execution_count": 10,
   "metadata": {},
   "outputs": [],
   "source": [
    "#kubectl delete pod -l run=grommet-${YourName}"
   ]
  },
  {
   "cell_type": "markdown",
   "metadata": {},
   "source": [
    "### Deploying your app using your YAML manifest file"
   ]
  },
  {
   "cell_type": "markdown",
   "metadata": {},
   "source": [
    "As you are all sharing the same tenant context and Kubernetes cluster resources, let's make sure your application deployment name will be unique among the tenant users. Here we replace the string \"example\" with your Name."
   ]
  },
  {
   "cell_type": "code",
   "execution_count": 11,
   "metadata": {},
   "outputs": [
    {
     "name": "stdout",
     "output_type": "stream",
     "text": [
      "apiVersion: apps/v1\n",
      "kind: Deployment\n",
      "metadata:\n",
      "  name: grommet-denischoukroun\n",
      "spec:\n",
      "  selector:\n",
      "    matchLabels:\n",
      "      run: grommet-denischoukroun\n",
      "  replicas: 1\n",
      "  template:\n",
      "    metadata:\n",
      "      labels:\n",
      "        run: grommet-denischoukroun\n",
      "    spec:\n",
      "      containers:\n",
      "        - name: grommet-app-denischoukroun\n",
      "          image: didierlalli/myfirstgrommetapp\n",
      "          ports:\n",
      "            - containerPort: 3000\n",
      "              protocol: TCP\n",
      "          stdin: true\n",
      "          tty: true \n",
      "---\n",
      "apiVersion: v1\n",
      "kind: Service\n",
      "metadata:\n",
      "  name: grommet-service-denischoukroun\n",
      "spec:\n",
      "  selector:\n",
      "    run: grommet-denischoukroun\n",
      "  ports:\n",
      "  - name: http-grommetapp\n",
      "    protocol: TCP\n",
      "    port: 3000\n",
      "    targetPort: 3000\n",
      "  type: NodePort\n"
     ]
    }
   ],
   "source": [
    "#sed -i \"s/example/${YourName}/g\" $GrommetApp\n",
    "cat $GrommetApp"
   ]
  },
  {
   "cell_type": "code",
   "execution_count": 12,
   "metadata": {},
   "outputs": [
    {
     "name": "stdout",
     "output_type": "stream",
     "text": [
      "deployment.apps/grommet-denischoukroun created\n",
      "service/grommet-service-denischoukroun created\n"
     ]
    }
   ],
   "source": [
    "kubectl apply -f my-app-denischoukroun.yaml"
   ]
  },
  {
   "cell_type": "markdown",
   "metadata": {},
   "source": [
    "### Get the Kubernetes Pod status for your deployed application:"
   ]
  },
  {
   "cell_type": "code",
   "execution_count": 15,
   "metadata": {},
   "outputs": [
    {
     "name": "stdout",
     "output_type": "stream",
     "text": [
      "NAME                                      READY   STATUS    RESTARTS   AGE\n",
      "grommet-denischoukroun-6f7ddbbbc9-v4wz7   1/1     Running   0          119s\n"
     ]
    }
   ],
   "source": [
    "kubectl get pods -l run=grommet-${YourName}"
   ]
  },
  {
   "cell_type": "markdown",
   "metadata": {},
   "source": [
    "> Note: The first time an application type is created in the Kubernetes cluster, it may take some minutes to reach its \"running\" state, as the relevant Docker image must be downloaded and imported in a Kubernetes worker host."
   ]
  },
  {
   "cell_type": "markdown",
   "metadata": {},
   "source": [
    "### Get the gateway mapped service endpoint:\n",
    "HPE Container Platform automatically maps the **NodePort Service** endpoint to the HPE Container Platform gateway (proxy) host.\n",
    "Access to application services running in containers is proxied via the gateway host on a publicly-accessible IP address and a port number greater than 10000."
   ]
  },
  {
   "cell_type": "code",
   "execution_count": 14,
   "metadata": {},
   "outputs": [
    {
     "name": "stdout",
     "output_type": "stream",
     "text": [
      "Name:                     grommet-service-denischoukroun\n",
      "Namespace:                k8shacktenant\n",
      "Labels:                   hpecp.hpe.com/hpecp-internal-gateway=true\n",
      "Annotations:              hpecp-internal-gateway/3000: hpecpgw1.hp.local:10003\n",
      "Selector:                 run=grommet-denischoukroun\n",
      "Type:                     NodePort\n",
      "IP:                       10.96.64.182\n",
      "Port:                     http-grommetapp  3000/TCP\n",
      "TargetPort:               3000/TCP\n",
      "NodePort:                 http-grommetapp  30043/TCP\n",
      "Endpoints:                10.192.2.9:3000\n",
      "Session Affinity:         None\n",
      "External Traffic Policy:  Cluster\n",
      "Events:\n",
      "  Type    Reason  Age   From         Message\n",
      "  ----    ------  ----  ----         -------\n",
      "  Normal  HpeCp   15s   hpecp-agent  Created HPECP K8S service\n"
     ]
    }
   ],
   "source": [
    "kubectl describe service/grommet-service-${YourName}"
   ]
  },
  {
   "cell_type": "markdown",
   "metadata": {},
   "source": [
    "### Check to see if your application is responding:"
   ]
  },
  {
   "cell_type": "code",
   "execution_count": 16,
   "metadata": {},
   "outputs": [
    {
     "name": "stdout",
     "output_type": "stream",
     "text": [
      "HTTP/1.1 200 OK\n",
      "X-Powered-By: Express\n",
      "Accept-Ranges: bytes\n",
      "Content-Type: text/html; charset=UTF-8\n",
      "Content-Length: 1798\n",
      "ETag: W/\"706-0DU2eHkPbGbTCKpkJ6ai23p6VYE\"\n",
      "Vary: Accept-Encoding\n",
      "Date: Sat, 25 Jul 2020 16:43:59 GMT\n",
      "\n",
      "<!DOCTYPE html>\n",
      "<html lang=\"en\">\n",
      "  <head>\n",
      "    <meta charset=\"utf-8\" />\n",
      "    <link rel=\"icon\" href=\"/favicon.ico\" />\n",
      "    <meta name=\"viewport\" content=\"width=device-width, initial-scale=1\" />\n",
      "    <meta name=\"theme-color\" content=\"#000000\" />\n",
      "    <meta\n",
      "      name=\"description\"\n",
      "      content=\"Web site created using create-react-app\"\n",
      "    />\n",
      "    <link rel=\"apple-touch-icon\" href=\"/logo192.png\" />\n",
      "    <!--\n",
      "      manifest.json provides metadata used when your web app is installed on a\n",
      "      user's mobile device or desktop. See https://developers.google.com/web/fundamentals/web-app-manifest/\n",
      "    -->\n",
      "    <link rel=\"manifest\" href=\"/manifest.json\" />\n",
      "    <!--\n",
      "      Notice the use of  in the tags above.\n",
      "      It will be replaced with the URL of the `public` folder during the build.\n",
      "      Only files inside the `public` folder can be referenced from the HTML.\n",
      "\n",
      "      Unlike \"/favicon.ico\" or \"favicon.ico\", \"/favicon.ico\" will\n",
      "      work correctly both with client-side routing and a non-root public URL.\n",
      "      Learn how to configure a non-root public URL by running `npm run build`.\n",
      "    -->\n",
      "    <title>React App</title>\n",
      "  </head>\n",
      "  <body>\n",
      "    <noscript>You need to enable JavaScript to run this app.</noscript>\n",
      "    <div id=\"root\"></div>\n",
      "    <!--\n",
      "      This HTML file is a template.\n",
      "      If you open it directly in the browser, you will see an empty page.\n",
      "\n",
      "      You can add webfonts, meta tags, or analytics to this file.\n",
      "      The build step will place the bundled scripts into the <body> tag.\n",
      "\n",
      "      To begin the development, run `npm start` or `yarn start`.\n",
      "      To create a production bundle, use `npm run build` or `yarn build`.\n",
      "    -->\n",
      "  <script src=\"/static/js/bundle.js\"></script><script src=\"/static/js/0.chunk.js\"></script><script src=\"/static/js/main.chunk.js\"></script></body>\n",
      "</html>\n"
     ]
    }
   ],
   "source": [
    "curl -k -i https://hpecpgw1.hp.local:10003"
   ]
  },
  {
   "cell_type": "markdown",
   "metadata": {},
   "source": [
    "### Connect to your application from your browser"
   ]
  },
  {
   "cell_type": "markdown",
   "metadata": {},
   "source": [
    "Once your front-end app is running and is respondign to your cURL command above, you can connect to your front-end application from your browser from the Internet.\n",
    "\n",
    "Open a new tab in your browser and connect to the application service endpoint through our Internet NAT firewall: https://notebooks2.hpedev.io:YourRemappedPortNumber where port number is the re-mapped port you get for your service endpoint. "
   ]
  },
  {
   "cell_type": "markdown",
   "metadata": {},
   "source": [
    "# Go through some cleanup:"
   ]
  },
  {
   "cell_type": "markdown",
   "metadata": {},
   "source": [
    "### Delete your application deployment and artifacts:"
   ]
  },
  {
   "cell_type": "code",
   "execution_count": 17,
   "metadata": {},
   "outputs": [],
   "source": [
    "#kubectl delete -f Grommet-app-v2.yaml"
   ]
  },
  {
   "cell_type": "markdown",
   "metadata": {},
   "source": [
    "Although sessions have a time to live (TTL) of 24 hours, it is a best practice in REST API programming to cleanup and delete those sessions when done. "
   ]
  },
  {
   "cell_type": "code",
   "execution_count": 18,
   "metadata": {},
   "outputs": [
    {
     "name": "stdout",
     "output_type": "stream",
     "text": [
      "HTTP/1.1 204 No Content\n",
      "Access-Control-Allow-Origin: *\n",
      "Content-Length: 0\n",
      "Content-Type: text/plain\n",
      "Date: Sat, 25 Jul 2020 16:44:44 GMT\n",
      "Server: BlueData EPIC 5.0\n",
      "\n"
     ]
    }
   ],
   "source": [
    "curl -k -i -s --request DELETE \"https://${controller_endpoint}/api/v2/session/${SessionId}\" \\\n",
    "--header \"X-BDS-SESSION: $sessionlocation\" \\\n",
    "--header 'Accept: application/json' \\\n",
    "--header 'Content-Type: application/json'"
   ]
  },
  {
   "cell_type": "markdown",
   "metadata": {},
   "source": [
    "The status *204 No Content* means the session object has been deleted."
   ]
  },
  {
   "cell_type": "markdown",
   "metadata": {},
   "source": [
    "* Finally, reset your applications YAML files and delete the kubeconfig file"
   ]
  },
  {
   "cell_type": "code",
   "execution_count": 19,
   "metadata": {},
   "outputs": [],
   "source": [
    "#reset the application deployment name in the YAML file and delete the kubeconfgi file\n",
    "rm ${YourName}_kubeconfig\n",
    "#sed -i \"s/${YourName}/example/g\" $GrommetApp\n",
    "#cat $GrommetApp"
   ]
  }
 ],
 "metadata": {
  "kernelspec": {
   "display_name": "Bash",
   "language": "bash",
   "name": "bash"
  },
  "language_info": {
   "codemirror_mode": "shell",
   "file_extension": ".sh",
   "mimetype": "text/x-sh",
   "name": "bash"
  }
 },
 "nbformat": 4,
 "nbformat_minor": 4
}
